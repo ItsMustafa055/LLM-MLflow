{
 "cells": [
  {
   "cell_type": "markdown",
   "metadata": {},
   "source": [
    "### QuickStart: Compare runs, Choose a model, and deploy it to the REST API ###\n",
    "\n",
    "In this quickstart, you will: \n",
    " - Run a hyperparameter sweep on  a training script\n",
    " - Compare the results of the runs in the MLFLOW UI\n",
    " - Choose the best run and register it as a model\n",
    " - Deploy the model to the REST API \n",
    " - Build a container image suitable for the deployment to the cloud platform"
   ]
  },
  {
   "cell_type": "code",
   "execution_count": null,
   "metadata": {},
   "outputs": [
    {
     "ename": "",
     "evalue": "",
     "output_type": "error",
     "traceback": [
      "\u001b[1;31mFailed to start the Kernel 'Python 3.12.10'. \n",
      "\u001b[1;31mView Jupyter <a href='command:jupyter.viewOutput'>log</a> for further details. WebSocket is not defined"
     ]
    }
   ],
   "source": [
    "import keras\n",
    "import numpy as np\n",
    "import pandas as pd\n",
    "from hyperopt import STATUS_OK, Trials, fmin, hp,tpe\n",
    "from sklearn.metrics import mean_squared_error\n",
    "from sklearn.model_selection import train_test_split\n",
    "\n",
    "import mlflow\n",
    "from mlflow.models import infer_signature\n"
   ]
  },
  {
   "cell_type": "code",
   "execution_count": null,
   "metadata": {},
   "outputs": [],
   "source": [
    "# Load the data\n",
    "\n",
    "data=pd.read_csv(\n",
    "   \"https://raw.githubusercontent.com/mlflow/mlflow/master/tests/datasets/winequality-white.csv \",\n",
    "    sep=\";\",\n",
    ")\n",
    "data.head()"
   ]
  },
  {
   "cell_type": "code",
   "execution_count": 3,
   "metadata": {},
   "outputs": [],
   "source": [
    "## Split the data into training,validation and st sets \n",
    "\n",
    "train, test = train_test_split(data, test_size=0.2, random_state=42)\n",
    "\n",
    "# Define the model\n",
    "\n"
   ]
  },
  {
   "cell_type": "code",
   "execution_count": 4,
   "metadata": {},
   "outputs": [],
   "source": [
    "train_x = train.drop([\"quality\"], axis=1).values\n",
    "train_y = train[\"quality\"].values.ravel()\n",
    "\n",
    "## Test Dataset\n",
    "test_x = test.drop([\"quality\"], axis=1).values\n",
    "test_y = test[\"quality\"].values.ravel()\n",
    "\n",
    "## Split the training data into training and validation sets\n",
    "train_x, valid_x, train_y, valid_y = train_test_split(train_x, train_y, test_size=0.2, random_state=42)\n",
    "signature = infer_signature(train_x,train_y)\n",
    "\n",
    "# Define the search space\n",
    "\n"
   ]
  },
  {
   "cell_type": "code",
   "execution_count": null,
   "metadata": {},
   "outputs": [],
   "source": [
    "### Ann Model\n",
    "\n",
    "from numpy import shape\n",
    "\n",
    "\n",
    "def train_model(prams,epochs,train_x,train_y,vali_x,valid_y,test_x,test_y):\n",
    "\n",
    "    ##Define model architechture\n",
    "    mean = np.mean(train_x, axis=0)\n",
    "    var = np.var(train_x, axis=0)\n",
    "\n",
    "    model = keras.Sequential(\n",
    "        [\n",
    "            keras.Input([train_x,shape[1]]),\n",
    "            keras.layers.normalization(mean = mean, varience = var),\n",
    "            keras.layers.Dense(64, activation = 'relu'),\n",
    "            keras.layers.Dense(1)\n",
    "        ]\n",
    "    )\n",
    "\n",
    "\n",
    "    ##Compile the model\n",
    "    model.compile(optimizer = keras.optimizers.SGD(\n",
    "    learning_rate=params[\"lr\"], momentum = params['momentum']\n",
    "    ),\n",
    "                 loss = \"mean_squared_error\",\n",
    "                 metrics = [keras.metrics.RootMeanSquaredError()])"
   ]
  }
 ],
 "metadata": {
  "kernelspec": {
   "display_name": "Python 3",
   "language": "python",
   "name": "python3"
  },
  "language_info": {
   "codemirror_mode": {
    "name": "ipython",
    "version": 3
   },
   "file_extension": ".py",
   "mimetype": "text/x-python",
   "name": "python",
   "nbconvert_exporter": "python",
   "pygments_lexer": "ipython3",
   "version": "3.12.10"
  }
 },
 "nbformat": 4,
 "nbformat_minor": 4
}
